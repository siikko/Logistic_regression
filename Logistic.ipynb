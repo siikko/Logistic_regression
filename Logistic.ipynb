{
  "nbformat": 4,
  "nbformat_minor": 0,
  "metadata": {
    "colab": {
      "provenance": []
    },
    "kernelspec": {
      "name": "python3",
      "display_name": "Python 3"
    },
    "language_info": {
      "name": "python"
    }
  },
  "cells": [
    {
      "cell_type": "code",
      "execution_count": null,
      "metadata": {
        "id": "4Z9y7WuXuHxY"
      },
      "outputs": [],
      "source": [
        "import torch\n",
        "import torch.nn as nn\n",
        "import torch.nn.functional as F\n",
        "import torch.optim as optim\n",
        "# 현재 실습하고 있는 파이썬 코드를 재실행해도 다음에도 같은 결과가 나오도록 랜덤 시드(random seed) 설정\n",
        "torch.manual_seed(1)\n",
        "\n",
        "class LogisticRegression(nn.Module):\n",
        "    def __init__(self):\n",
        "        super().__init__()\n",
        "        #구현 필요\n",
        "        self.linear = nn.Linear(2, 1)\n",
        "        self.sigmoid = nn.Sigmoid()\n",
        "    def forward(self, x):\n",
        "      #구현 필요\n",
        "      return self.sigmoid(self.linear(x))\n",
        "\n",
        "#구현 필요\n",
        "x_train = torch.FloatTensor([[1,2], [2,3], [3,1], [4,3], [5,3], [6,2] ])\n",
        "y_train = torch.FloatTensor([[0],[0],[0],[1],[1],[1]])\n",
        "\n",
        "model = LogisticRegression()\n",
        "\n",
        "optimizer = torch.optim.SGD(model.parameters(), lr=1e-1)\n",
        "nb_epochs = 1000\n",
        "for epoch in range(nb_epochs+1):\n",
        "    #구현 필요\n",
        "    prediction = model(x_train)\n",
        "    cost = F.binary_cross_entropy(prediction, y_train)\n",
        "\n",
        "    optimizer.zero_grad()\n",
        "    cost.backward()\n",
        "    optimizer.step()\n",
        "\n",
        "    if epoch % 100 == 0:\n",
        "    # 100번마다 로그 출력\n",
        "      #구현 필요\n",
        "      predicted_class = prediction >= torch.FloatTensor([0.5])\n",
        "      correct_prediction = predicted_class.float() == y_train\n",
        "      accuracy = correct_prediction.sum().item() / len(correct_prediction)\n",
        "      print('Epoch {:4d}/{} Cost: {:.6f} Accuracy: {:2.2f}%'.format(\n",
        "          epoch, nb_epochs, cost.item(), accuracy*100\n",
        "      ))\n",
        "\n",
        "#구현 필요\n",
        "test_data = torch.FloatTensor([[5,5], [1,4]]) # class1, class0\n",
        "prediction = model(test_data)\n",
        "print (prediction)\n"
      ]
    }
  ]
}